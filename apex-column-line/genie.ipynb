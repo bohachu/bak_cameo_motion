{
 "cells": [
  {
   "cell_type": "code",
   "execution_count": 1,
   "metadata": {},
   "outputs": [],
   "source": [
    "using Genie, Genie.Router, Genie.Requests, Genie.Renderer.Json"
   ]
  },
  {
   "cell_type": "code",
   "execution_count": 2,
   "metadata": {},
   "outputs": [
    {
     "name": "stdout",
     "output_type": "stream",
     "text": [
      "  1.779477 seconds (6.15 k allocations: 568.134 KiB)\n",
      "  0.119837 seconds (167.96 k allocations: 8.511 MiB)\n"
     ]
    },
    {
     "data": {
      "text/html": [
       "<a href=http://35.229.207.244:8866/index.html>http://35.229.207.244:8866/index.html</a>"
      ],
      "text/plain": [
       "HTML{String}(\"<a href=http://35.229.207.244:8866/index.html>http://35.229.207.244:8866/index.html</a>\")"
      ]
     },
     "execution_count": 2,
     "metadata": {},
     "output_type": "execute_result"
    }
   ],
   "source": [
    "@time ary_gcp機器列表=split(read(`gcloud compute instances list`,String),\"\\n\")\n",
    "@time str_本機外部IP=[split(i,r\" +\") for i in ary_gcp機器列表 if occursin(\"cameo-motion-bowen\",i)][1][6]\n",
    "str_url=\"http://$(str_本機外部IP):8866/index.html\"\n",
    "HTML(\"\"\"<a href=$(str_url)>$(str_url)</a>\"\"\")"
   ]
  },
  {
   "cell_type": "code",
   "execution_count": null,
   "metadata": {},
   "outputs": [
    {
     "name": "stderr",
     "output_type": "stream",
     "text": [
      "┌ Info: Listening on: 0.0.0.0:8866\n",
      "└ @ HTTP.Servers /home/bohachu/.julia/packages/HTTP/IAI92/src/Servers.jl:227\n",
      "┌ Info: /index.html 200\n",
      "└ @ Genie.Router /home/bohachu/.julia/packages/Genie/3rr2f/src/Router.jl:161\n",
      "┌ Info: /js/apex-line-column.js 200\n",
      "└ @ Genie.Router /home/bohachu/.julia/packages/Genie/3rr2f/src/Router.jl:161\n",
      "┌ Info: /data/config_apex_line_column.csv 200\n",
      "└ @ Genie.Router /home/bohachu/.julia/packages/Genie/3rr2f/src/Router.jl:161\n",
      "┌ Info: /data/data_apex_line_column.csv 200\n",
      "└ @ Genie.Router /home/bohachu/.julia/packages/Genie/3rr2f/src/Router.jl:161\n"
     ]
    }
   ],
   "source": [
    "function genie()\n",
    "    Genie.config.run_as_server = true\n",
    "    Genie.config.cors_headers[\"Access-Control-Allow-Origin\"] = \"http://localhost:8866\"\n",
    "    Genie.config.cors_headers[\"Access-Control-Allow-Headers\"] = \"Content-Type\"\n",
    "    Genie.config.cors_headers[\"Access-Control-Allow-Methods\"] =\"GET,POST,PUT,DELETE,OPTIONS\" \n",
    "    Genie.config.cors_allowed_origins = [\"*\"]\n",
    "    Genie.serve(\".\", 8866, \"0.0.0.0\", async = false, verbose = true)\n",
    "end\n",
    "genie()"
   ]
  }
 ],
 "metadata": {
  "kernelspec": {
   "display_name": "Julia 1.5.2",
   "language": "julia",
   "name": "julia-1.5"
  },
  "language_info": {
   "file_extension": ".jl",
   "mimetype": "application/julia",
   "name": "julia",
   "version": "1.5.2"
  }
 },
 "nbformat": 4,
 "nbformat_minor": 4
}
