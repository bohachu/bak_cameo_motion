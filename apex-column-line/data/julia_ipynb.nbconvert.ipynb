{
 "cells": [
  {
   "cell_type": "code",
   "execution_count": 1,
   "metadata": {
    "execution": {
     "iopub.execute_input": "2020-11-04T15:32:29.653913Z",
     "iopub.status.busy": "2020-11-04T15:32:28.947903Z",
     "iopub.status.idle": "2020-11-04T15:32:29.916072Z",
     "shell.execute_reply": "2020-11-04T15:32:29.915409Z"
    }
   },
   "outputs": [
    {
     "name": "stdout",
     "output_type": "stream",
     "text": [
      "julia ipynb YEAH\n"
     ]
    }
   ],
   "source": [
    "println(\"julia ipynb YEAH\")"
   ]
  },
  {
   "cell_type": "code",
   "execution_count": null,
   "metadata": {},
   "outputs": [],
   "source": []
  }
 ],
 "metadata": {
  "kernelspec": {
   "display_name": "Julia 1.5.2",
   "language": "julia",
   "name": "julia-1.5"
  },
  "language_info": {
   "file_extension": ".jl",
   "mimetype": "application/julia",
   "name": "julia",
   "version": "1.5.2"
  }
 },
 "nbformat": 4,
 "nbformat_minor": 4
}
