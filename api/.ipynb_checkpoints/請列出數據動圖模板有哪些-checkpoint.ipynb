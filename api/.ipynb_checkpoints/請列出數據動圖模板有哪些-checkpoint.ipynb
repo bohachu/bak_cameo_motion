{
 "cells": [
  {
   "cell_type": "code",
   "execution_count": 5,
   "metadata": {},
   "outputs": [
    {
     "data": {
      "text/plain": [
       "2-element Array{String,1}:\n",
       " \"apex-column-line\"\n",
       " \"am-world-timeline\""
      ]
     },
     "execution_count": 5,
     "metadata": {},
     "output_type": "execute_result"
    }
   ],
   "source": [
    "import JSON\n",
    "function 請列出數據動圖模板有哪些(ary)\n",
    "    ary_result::Array{String,1}=[\"apex-column-line\",\"am-world-timeline\"]\n",
    "    return JSON.json(ary_result)\n",
    "end\n",
    "# ary=請列出數據動圖模板有哪些()"
   ]
  }
 ],
 "metadata": {
  "kernelspec": {
   "display_name": "Julia 1.5.2",
   "language": "julia",
   "name": "julia-1.5"
  },
  "language_info": {
   "file_extension": ".jl",
   "mimetype": "application/julia",
   "name": "julia",
   "version": "1.5.2"
  }
 },
 "nbformat": 4,
 "nbformat_minor": 4
}
