{
 "cells": [
  {
   "cell_type": "code",
   "execution_count": 1,
   "metadata": {},
   "outputs": [],
   "source": [
    "using CSV"
   ]
  },
  {
   "cell_type": "code",
   "execution_count": 2,
   "metadata": {},
   "outputs": [
    {
     "data": {
      "text/html": [
       "<table class=\"data-frame\"><thead><tr><th></th><th>API名稱</th><th>API參數</th></tr><tr><th></th><th>String</th><th>String?</th></tr></thead><tbody><p>2 rows × 2 columns</p><tr><th>1</th><td>請列出數據動圖模板有哪些</td><td><em>missing</em></td></tr><tr><th>2</th><td>我想建立數據動圖專案</td><td>專案名稱</td></tr></tbody></table>"
      ],
      "text/latex": [
       "\\begin{tabular}{r|cc}\n",
       "\t& API名稱 & API參數\\\\\n",
       "\t\\hline\n",
       "\t& String & String?\\\\\n",
       "\t\\hline\n",
       "\t1 & 請列出數據動圖模板有哪些 & \\emph{missing} \\\\\n",
       "\t2 & 我想建立數據動圖專案 & 專案名稱 \\\\\n",
       "\\end{tabular}\n"
      ],
      "text/plain": [
       "2×2 DataFrame\n",
       "│ Row │ API名稱                  │ API參數  │\n",
       "│     │ \u001b[90mString\u001b[39m                   │ \u001b[90mString?\u001b[39m  │\n",
       "├─────┼──────────────────────────┼──────────┤\n",
       "│ 1   │ 請列出數據動圖模板有哪些 │ \u001b[90mmissing\u001b[39m  │\n",
       "│ 2   │ 我想建立數據動圖專案     │ 專案名稱 │"
      ]
     },
     "execution_count": 2,
     "metadata": {},
     "output_type": "execute_result"
    }
   ],
   "source": [
    "CSV.read(\"api.csv\")"
   ]
  },
  {
   "cell_type": "code",
   "execution_count": 3,
   "metadata": {},
   "outputs": [
    {
     "name": "stdout",
     "output_type": "stream",
     "text": [
      "hihi\n"
     ]
    }
   ],
   "source": [
    "println(\"hihi\")"
   ]
  },
  {
   "cell_type": "code",
   "execution_count": null,
   "metadata": {},
   "outputs": [],
   "source": [
    "println(\"wa le la\")"
   ]
  },
  {
   "cell_type": "code",
   "execution_count": null,
   "metadata": {},
   "outputs": [],
   "source": []
  }
 ],
 "metadata": {
  "kernelspec": {
   "display_name": "Julia 1.5.2",
   "language": "julia",
   "name": "julia-1.5"
  },
  "language_info": {
   "file_extension": ".jl",
   "mimetype": "application/julia",
   "name": "julia",
   "version": "1.5.2"
  }
 },
 "nbformat": 4,
 "nbformat_minor": 4
}
