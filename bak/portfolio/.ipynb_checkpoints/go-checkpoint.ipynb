{
 "cells": [
  {
   "cell_type": "code",
   "execution_count": 2,
   "metadata": {},
   "outputs": [
    {
     "data": {
      "text/html": [
       "<a href='http://35.229.174.180:18866/portfolio/index.html'>http://35.229.174.180:18866/portfolio/index.html</a>"
      ],
      "text/plain": [
       "HTML{String}(\"<a href='http://35.229.174.180:18866/portfolio/index.html'>http://35.229.174.180:18866/portfolio/index.html</a>\")"
      ]
     },
     "execution_count": 2,
     "metadata": {},
     "output_type": "execute_result"
    }
   ],
   "source": [
    "using Genie\n",
    "int_port=18866\n",
    "str_vm=\"cameo-motion-3\"\n",
    "ary_gcp機器列表=split(read(`gcloud compute instances list`,String),\"\\n\")\n",
    "str_本機外部IP=[split(i,r\" +\") for i in ary_gcp機器列表 if occursin(str_vm,i)][1][6]\n",
    "str_url=\"\"\"http://$(str_本機外部IP):$(int_port)/portfolio/index.html\"\"\"\n",
    "Genie.HTML(\"<a href='$(str_url)'>$(str_url)</a>\")"
   ]
  },
  {
   "cell_type": "code",
   "execution_count": null,
   "metadata": {},
   "outputs": [],
   "source": []
  }
 ],
 "metadata": {
  "kernelspec": {
   "display_name": "Julia 1.5.2",
   "language": "julia",
   "name": "julia-1.5"
  },
  "language_info": {
   "file_extension": ".jl",
   "mimetype": "application/julia",
   "name": "julia",
   "version": "1.5.2"
  }
 },
 "nbformat": 4,
 "nbformat_minor": 4
}
