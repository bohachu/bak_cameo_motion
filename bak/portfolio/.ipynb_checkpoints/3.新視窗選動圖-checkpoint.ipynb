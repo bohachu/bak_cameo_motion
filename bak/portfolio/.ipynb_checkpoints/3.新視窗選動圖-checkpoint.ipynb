{
 "cells": [
  {
   "cell_type": "code",
   "execution_count": 2,
   "metadata": {},
   "outputs": [
    {
     "data": {
      "application/javascript": [
       "window.open(\"http://35.185.170.85:18866/portfolio/index.html\");"
      ],
      "text/plain": [
       "<IPython.core.display.Javascript object>"
      ]
     },
     "metadata": {},
     "output_type": "display_data"
    }
   ],
   "source": [
    "from IPython.display import Javascript; import os\n",
    "int_port=18866; str_vm=\"cameo-motion-3\"\n",
    "str_ip=[i for i in os.popen(\"gcloud compute instances list\").read().split(\"\\n\") if str_vm in i][0].split()[5]\n",
    "display(Javascript('window.open(\"{url}\");'.format(url=f\"http://{str_ip}:{int_port}/portfolio/index.html\")))"
   ]
  },
  {
   "cell_type": "code",
   "execution_count": null,
   "metadata": {},
   "outputs": [],
   "source": []
  }
 ],
 "metadata": {
  "kernelspec": {
   "display_name": "Python 3",
   "language": "python",
   "name": "python3"
  },
  "language_info": {
   "codemirror_mode": {
    "name": "ipython",
    "version": 3
   },
   "file_extension": ".py",
   "mimetype": "text/x-python",
   "name": "python",
   "nbconvert_exporter": "python",
   "pygments_lexer": "ipython3",
   "version": "3.7.3"
  }
 },
 "nbformat": 4,
 "nbformat_minor": 4
}
