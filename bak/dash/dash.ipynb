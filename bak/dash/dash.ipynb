{
 "cells": [
  {
   "cell_type": "code",
   "execution_count": 1,
   "metadata": {},
   "outputs": [
    {
     "name": "stdout",
     "output_type": "stream",
     "text": [
      "\u001b[?25l    "
     ]
    },
    {
     "name": "stderr",
     "output_type": "stream",
     "text": [
      "\u001b[32m\u001b[1m    Cloning\u001b[22m\u001b[39m git-repo `https://github.com/plotly/DashBase.jl.git`\n"
     ]
    },
    {
     "name": "stdout",
     "output_type": "stream",
     "text": [
      "\u001b[2K\u001b[?25h[1mFetching:\u001b[22m\u001b[39m [========================================>]  100.0 %\u001b[?25l\u001b[2K"
     ]
    },
    {
     "name": "stderr",
     "output_type": "stream",
     "text": [
      "\u001b[32m\u001b[1m   Updating\u001b[22m\u001b[39m git-repo `https://github.com/plotly/DashBase.jl.git`\n"
     ]
    },
    {
     "name": "stdout",
     "output_type": "stream",
     "text": [
      "\u001b[?25h"
     ]
    },
    {
     "name": "stderr",
     "output_type": "stream",
     "text": [
      "\u001b[32m\u001b[1m   Updating\u001b[22m\u001b[39m registry at `~/.julia/registries/General`\n",
      "######################################################################### 100.0%\n",
      "\u001b[32m\u001b[1m  Resolving\u001b[22m\u001b[39m package versions...\n",
      "\u001b[32m\u001b[1m  Installed\u001b[22m\u001b[39m JSON2 ─ v0.3.2\n",
      "\u001b[32m\u001b[1mUpdating\u001b[22m\u001b[39m `~/.julia/environments/v1.5/Project.toml`\n",
      " \u001b[90m [03207cf0] \u001b[39m"
     ]
    },
    {
     "name": "stdout",
     "output_type": "stream",
     "text": [
      "\u001b[?25l    "
     ]
    },
    {
     "name": "stderr",
     "output_type": "stream",
     "text": [
      "\u001b[92m+ DashBase v0.1.0 `https://github.com/plotly/DashBase.jl.git#master`\u001b[39m\n",
      "\u001b[32m\u001b[1mUpdating\u001b[22m\u001b[39m `~/.julia/environments/v1.5/Manifest.toml`\n",
      " \u001b[90m [03207cf0] \u001b[39m\u001b[92m+ DashBase v0.1.0 `https://github.com/plotly/DashBase.jl.git#master`\u001b[39m\n",
      " \u001b[90m [2535ab7d] \u001b[39m\u001b[92m+ JSON2 v0.3.2\u001b[39m\n",
      "\u001b[32m\u001b[1m    Cloning\u001b[22m\u001b[39m git-repo `https://github.com/plotly/dash-html-components.git`\n"
     ]
    },
    {
     "name": "stdout",
     "output_type": "stream",
     "text": [
      "\u001b[2K\u001b[?25h\u001b[?25l    g:\u001b[22m\u001b[39m [========================================>]  99.9 %\u001b[36m\u001b[1mFetching:\u001b[22m\u001b[39m [=====>                                   ]  11.4 %                         ]  35.4 %\u001b[36m\u001b[1mFetching:\u001b[22m\u001b[39m [================>                        ]  39.3 %                   ]  51.8 %\u001b[36m\u001b[1mFetching:\u001b[22m\u001b[39m [=====================>                   ]  52.1 %>              ]  64.6 %===============================>         ]  77.3 %]  89.9 %\u001b[36m\u001b[1mFetching:\u001b[22m\u001b[39m [======================================>  ]  94.5 %"
     ]
    },
    {
     "name": "stderr",
     "output_type": "stream",
     "text": [
      "\u001b[32m\u001b[1m   Updating\u001b[22m\u001b[39m git-repo `https://github.com/plotly/dash-html-components.git`\n"
     ]
    },
    {
     "name": "stdout",
     "output_type": "stream",
     "text": [
      "\u001b[2K\u001b[?25h[1mFetching:\u001b[22m\u001b[39m [========================================>]  100.0 %[36m\u001b[1mFetching:\u001b[22m\u001b[39m [========>                                ]  17.9 %                           ]  31.2 %\u001b[36m\u001b[1mFetching:\u001b[22m\u001b[39m [===============>                         ]  36.2 %>                    ]  49.5 % [==========================>              ]  62.9 %         ]  76.7 % [=====================================>   ]  90.1 %"
     ]
    },
    {
     "name": "stderr",
     "output_type": "stream",
     "text": [
      "\u001b[32m\u001b[1m  Resolving\u001b[22m\u001b[39m package versions...\n"
     ]
    },
    {
     "name": "stdout",
     "output_type": "stream",
     "text": [
      "\u001b[?25l    "
     ]
    },
    {
     "name": "stderr",
     "output_type": "stream",
     "text": [
      "\u001b[32m\u001b[1mUpdating\u001b[22m\u001b[39m `~/.julia/environments/v1.5/Project.toml`\n",
      " \u001b[90m [1b08a953] \u001b[39m\u001b[92m+ DashHtmlComponents v1.1.1 `https://github.com/plotly/dash-html-components.git#master`\u001b[39m\n",
      "\u001b[32m\u001b[1mUpdating\u001b[22m\u001b[39m `~/.julia/environments/v1.5/Manifest.toml`\n",
      " \u001b[90m [1b08a953] \u001b[39m\u001b[92m+ DashHtmlComponents v1.1.1 `https://github.com/plotly/dash-html-components.git#master`\u001b[39m\n",
      "\u001b[32m\u001b[1m    Cloning\u001b[22m\u001b[39m git-repo `https://github.com/plotly/dash-core-components.git`\n"
     ]
    },
    {
     "name": "stdout",
     "output_type": "stream",
     "text": [
      "\u001b[2K\u001b[?25h\u001b[?25l    g:\u001b[22m\u001b[39m [========================================>]  100.0 %[36m\u001b[1mFetching:\u001b[22m\u001b[39m [========>                                ]  17.7 %\u001b[36m\u001b[1mFetching:\u001b[22m\u001b[39m [=============>                           ]  32.1 %==============>                          ]  33.2 %\u001b[36m\u001b[1mFetching:\u001b[22m\u001b[39m [===============>                         ]  35.7 %\u001b[36m\u001b[1mFetching:\u001b[22m\u001b[39m [===============>                         ]  37.0 %\u001b[36m\u001b[1mFetching:\u001b[22m\u001b[39m [======================>                  ]  52.6 %\u001b[36m\u001b[1mFetching:\u001b[22m\u001b[39m [======================>                  ]  52.9 %\u001b[36m\u001b[1mFetching:\u001b[22m\u001b[39m [=======================>                 ]  55.8 %\u001b[36m\u001b[1mFetching:\u001b[22m\u001b[39m [=============================>           ]  71.9 %\u001b[36m\u001b[1mFetching:\u001b[22m\u001b[39m [==============================>          ]  74.2 %\u001b[36m\u001b[1mFetching:\u001b[22m\u001b[39m [================================>        ]  77.7 %\u001b[36m\u001b[1mFetching:\u001b[22m\u001b[39m [================================>        ]  79.0 %\u001b[36m\u001b[1mFetching:\u001b[22m\u001b[39m [================================>        ]  79.5 %\u001b[36m\u001b[1mFetching:\u001b[22m\u001b[39m [======================================>  ]  92.8 %"
     ]
    },
    {
     "name": "stderr",
     "output_type": "stream",
     "text": [
      "\u001b[32m\u001b[1m   Updating\u001b[22m\u001b[39m git-repo `https://github.com/plotly/dash-core-components.git`\n"
     ]
    },
    {
     "name": "stdout",
     "output_type": "stream",
     "text": [
      "\u001b[2K\u001b[?25h[1mFetching:\u001b[22m\u001b[39m [========================================>]  99.9 %\u001b[36m\u001b[1mFetching:\u001b[22m\u001b[39m [========>                                ]  18.6 %\u001b[36m\u001b[1mFetching:\u001b[22m\u001b[39m [==============>                          ]  33.3 %\u001b[36m\u001b[1mFetching:\u001b[22m\u001b[39m [===============>                         ]  35.3 %>                    ]  47.7 % [=========================>               ]  60.3 %73.2 %\u001b[36m\u001b[1mFetching:\u001b[22m\u001b[39m [===============================>         ]  77.4 %\u001b[36m\u001b[1mFetching:\u001b[22m\u001b[39m [=====================================>   ]  92.3 %\u001b[36m\u001b[1mFetching:\u001b[22m\u001b[39m [=======================================> ]  96.0 %"
     ]
    },
    {
     "name": "stderr",
     "output_type": "stream",
     "text": [
      "\u001b[32m\u001b[1m  Resolving\u001b[22m\u001b[39m package versions...\n"
     ]
    },
    {
     "name": "stdout",
     "output_type": "stream",
     "text": [
      "\u001b[?25l    "
     ]
    },
    {
     "name": "stderr",
     "output_type": "stream",
     "text": [
      "\u001b[32m\u001b[1mUpdating\u001b[22m\u001b[39m `~/.julia/environments/v1.5/Project.toml`\n",
      " \u001b[90m [1b08a953] \u001b[39m\u001b[92m+ DashCoreComponents v1.13.0 `https://github.com/plotly/dash-core-components.git#master`\u001b[39m\n",
      "\u001b[32m\u001b[1mUpdating\u001b[22m\u001b[39m `~/.julia/environments/v1.5/Manifest.toml`\n",
      " \u001b[90m [1b08a953] \u001b[39m\u001b[92m+ DashCoreComponents v1.13.0 `https://github.com/plotly/dash-core-components.git#master`\u001b[39m\n",
      "\u001b[32m\u001b[1m    Cloning\u001b[22m\u001b[39m git-repo `https://github.com/plotly/dash-table.git`\n"
     ]
    },
    {
     "name": "stdout",
     "output_type": "stream",
     "text": [
      "\u001b[2K\u001b[?25h\u001b[?25l    g:\u001b[22m\u001b[39m [========================================>]  100.0 %[36m\u001b[1mFetching:\u001b[22m\u001b[39m [======>                                  ]  13.1 %\u001b[36m\u001b[1mFetching:\u001b[22m\u001b[39m [========>                                ]  17.7 %]  38.6 %40.2 %              ]  64.4 %\u001b[36m\u001b[1mFetching:\u001b[22m\u001b[39m [===========================>             ]  65.6 %\u001b[36m\u001b[1mFetching:\u001b[22m\u001b[39m [============================>            ]  69.3 %    ]  88.7 %\u001b[36m\u001b[1mFetching:\u001b[22m\u001b[39m [====================================>    ]  89.7 %"
     ]
    },
    {
     "name": "stderr",
     "output_type": "stream",
     "text": [
      "\u001b[32m\u001b[1m   Updating\u001b[22m\u001b[39m git-repo `https://github.com/plotly/dash-table.git`\n"
     ]
    },
    {
     "name": "stdout",
     "output_type": "stream",
     "text": [
      "\u001b[2K\u001b[?25h[1mFetching:\u001b[22m\u001b[39m [========================================>]  99.9 %\u001b[36m\u001b[1mFetching:\u001b[22m\u001b[39m [======>                                  ]  14.3 %\u001b[36m\u001b[1mFetching:\u001b[22m\u001b[39m [=============>                           ]  30.3 %\u001b[36m\u001b[1mFetching:\u001b[22m\u001b[39m [=============>                           ]  30.4 %\u001b[36m\u001b[1mFetching:\u001b[22m\u001b[39m [=============>                           ]  32.1 %\u001b[36m\u001b[1mFetching:\u001b[22m\u001b[39m [===============>                         ]  35.2 %>                    ]  47.5 %\u001b[36m\u001b[1mFetching:\u001b[22m\u001b[39m [=====================>                   ]  50.5 %>              ]  62.8 %===============================>         ]  75.2 %\u001b[36m\u001b[1mFetching:\u001b[22m\u001b[39m [=================================>       ]  80.0 %\u001b[36m\u001b[1mFetching:\u001b[22m\u001b[39m [=====================================>   ]  90.3 %\u001b[36m\u001b[1mFetching:\u001b[22m\u001b[39m [=====================================>   ]  90.9 %\u001b[36m\u001b[1mFetching:\u001b[22m\u001b[39m [======================================>  ]  93.4 %"
     ]
    },
    {
     "name": "stderr",
     "output_type": "stream",
     "text": [
      "\u001b[32m\u001b[1m  Resolving\u001b[22m\u001b[39m package versions...\n"
     ]
    },
    {
     "name": "stdout",
     "output_type": "stream",
     "text": [
      "\u001b[?25l    "
     ]
    },
    {
     "name": "stderr",
     "output_type": "stream",
     "text": [
      "\u001b[32m\u001b[1mUpdating\u001b[22m\u001b[39m `~/.julia/environments/v1.5/Project.toml`\n",
      " \u001b[90m [1b08a953] \u001b[39m\u001b[92m+ DashTable v4.11.0 `https://github.com/plotly/dash-table.git#master`\u001b[39m\n",
      "\u001b[32m\u001b[1mUpdating\u001b[22m\u001b[39m `~/.julia/environments/v1.5/Manifest.toml`\n",
      " \u001b[90m [1b08a953] \u001b[39m\u001b[92m+ DashTable v4.11.0 `https://github.com/plotly/dash-table.git#master`\u001b[39m\n",
      "\u001b[32m\u001b[1m    Cloning\u001b[22m\u001b[39m git-repo `https://github.com/plotly/Dash.jl.git`\n"
     ]
    },
    {
     "name": "stdout",
     "output_type": "stream",
     "text": [
      "    \u001b[36m\u001b[1mFetching:\u001b[22m\u001b[39m [=============>                           ]  30.9 %\u001b[36m\u001b[1mFetching:\u001b[22m\u001b[39m [=====>                                   ]  12.3 %\u001b[36m\u001b[1mFetching:\u001b[22m\u001b[39m [========>                                ]  17.7 %\u001b[36m\u001b[1mFetching:\u001b[22m\u001b[39m [========>                                ]  18.2 %"
     ]
    },
    {
     "name": "stderr",
     "output_type": "stream",
     "text": [
      "Excessive output truncated after 524288 bytes."
     ]
    },
    {
     "name": "stdout",
     "output_type": "stream",
     "text": [
      "    \u001b[36m\u001b[1mFetching:\u001b[22m\u001b[39m [===============>                         ]  36.7 %"
     ]
    }
   ],
   "source": [
    "using Pkg\n",
    "Pkg.add(PackageSpec(url=\"https://github.com/plotly/DashBase.jl.git\"))\n",
    "Pkg.add(PackageSpec(url=\"https://github.com/plotly/dash-html-components.git\", rev=\"master\"))\n",
    "Pkg.add(PackageSpec(url=\"https://github.com/plotly/dash-core-components.git\", rev=\"master\"))\n",
    "Pkg.add(PackageSpec(url=\"https://github.com/plotly/dash-table.git\", rev=\"master\"))\n",
    "Pkg.add(PackageSpec(url=\"https://github.com/plotly/Dash.jl.git\", rev=\"dev\"))"
   ]
  },
  {
   "cell_type": "code",
   "execution_count": 3,
   "metadata": {},
   "outputs": [
    {
     "name": "stderr",
     "output_type": "stream",
     "text": [
      "┌ Info: Precompiling Dash [1b08a953-4be3-4667-9a23-3db579824955]\n",
      "└ @ Base loading.jl:1278\n",
      "┌ Info: Precompiling DashHtmlComponents [1b08a953-4be3-4667-9a23-24100242a84a]\n",
      "└ @ Base loading.jl:1278\n",
      "┌ Info: Precompiling DashCoreComponents [1b08a953-4be3-4667-9a23-9da06441d987]\n",
      "└ @ Base loading.jl:1278\n"
     ]
    },
    {
     "data": {
      "text/plain": [
       "Component(\"html_div\", \"Div\", \"dash_html_components\", Dict{Symbol,Any}(:children => (Component(\"html_h1\", \"H1\", \"dash_html_components\", Dict{Symbol,Any}(:children => \"Hello Dash\"), Set([:n_clicks, :key, :contentEditable, :loading_state, :contextMenu, :n_clicks_timestamp, :draggable, :accessKey, :hidden, :style, :children, :id, :role, :spellCheck, :lang, :className, :tabIndex, :title, :dir]), r\"data-|aria-\"), Component(\"html_div\", \"Div\", \"dash_html_components\", Dict{Symbol,Any}(:children => \"Dash.jl: Julia interface for Dash\"), Set([:n_clicks, :key, :contentEditable, :loading_state, :contextMenu, :n_clicks_timestamp, :draggable, :accessKey, :hidden, :style, :children, :id, :role, :spellCheck, :lang, :className, :tabIndex, :title, :dir]), r\"data-|aria-\"), Component(\"dcc_graph\", \"Graph\", \"dash_core_components\", Dict{Symbol,Any}(:id => \"example-graph\",:figure => (data = NamedTuple{(:x, :y, :type, :name),Tuple{Array{Int64,1},Array{Int64,1},String,String}}[(x = [1, 2, 3], y = [4, 1, 2], type = \"bar\", name = \"SF\"), (x = [1, 2, 3], y = [2, 4, 5], type = \"bar\", name = \"Montréal\")], layout = (title = \"Dash Data Visualization\",))), Set([:hoverData, :clickData, :prependData, :relayoutData, :selectedData, :responsive, :clear_on_unhover, :animate, :loading_state, :config, :extendData, :style, :animation_options, :id, :clickAnnotationData, :className, :restyleData, :figure]), nothing))), Set([:n_clicks, :key, :contentEditable, :loading_state, :contextMenu, :n_clicks_timestamp, :draggable, :accessKey, :hidden, :style, :children, :id, :role, :spellCheck, :lang, :className, :tabIndex, :title, :dir]), r\"data-|aria-\")"
      ]
     },
     "execution_count": 3,
     "metadata": {},
     "output_type": "execute_result"
    }
   ],
   "source": [
    "using Dash\n",
    "using DashHtmlComponents\n",
    "using DashCoreComponents\n",
    "app = dash(external_stylesheets = [\"https://codepen.io/chriddyp/pen/bWLwgP.css\"])\n",
    "app.layout = html_div() do\n",
    "        html_h1(\"Hello Dash\"),\n",
    "        html_div(\"Dash.jl: Julia interface for Dash\"),\n",
    "        dcc_graph(\n",
    "            id = \"example-graph\",\n",
    "            figure = (\n",
    "                data = [\n",
    "                    (x = [1, 2, 3], y = [4, 1, 2], type = \"bar\", name = \"SF\"),\n",
    "                    (x = [1, 2, 3], y = [2, 4, 5], type = \"bar\", name = \"Montréal\"),\n",
    "                ],\n",
    "                layout = (title = \"Dash Data Visualization\",)\n",
    "            )\n",
    "        )\n",
    "end\n"
   ]
  },
  {
   "cell_type": "code",
   "execution_count": null,
   "metadata": {},
   "outputs": [
    {
     "name": "stderr",
     "output_type": "stream",
     "text": [
      "┌ Info: Listening on: 0.0.0.0:8866\n",
      "└ @ HTTP.Servers /home/bohachu/.julia/packages/HTTP/IAI92/src/Servers.jl:227\n",
      "┌ Error: error handling request\n",
      "│   exception = (Base.IOError(\"stream is closed or unusable\", 0), Base.StackTraces.StackFrame[check_open at stream.jl:328 [inlined], uv_write_async(::Sockets.TCPSocket, ::Ptr{UInt8}, ::UInt64) at stream.jl:959, uv_write(::Sockets.TCPSocket, ::Ptr{UInt8}, ::UInt64) at stream.jl:922, unsafe_write(::Sockets.TCPSocket, ::Ptr{UInt8}, ::UInt64) at stream.jl:1005, unsafe_write at ConnectionPool.jl:171 [inlined], unsafe_write(::HTTP.Streams.Stream{HTTP.Messages.Request,HTTP.ConnectionPool.Transaction{Sockets.TCPSocket}}, ::Ptr{UInt8}, ::UInt64) at Streams.jl:98, unsafe_write at io.jl:622 [inlined], write at io.jl:645 [inlined], handle(::HTTP.Handlers.RequestHandlerFunction{Dash.HttpHelpers.var\"#4#5\"{Array{String,1},Int64,HTTP.Handlers.RequestHandlerFunction{Dash.HttpHelpers.var\"#7#8\"{Dash.var\"#65#67\"{Dash.DashApp},HTTP.Handlers.RequestHandlerFunction{Dash.HttpHelpers.var\"#1#2\"{Dash.HttpHelpers.Router,Dash.HandlerState}}}}}}, ::HTTP.Streams.Stream{HTTP.Messages.Request,HTTP.ConnectionPool.Transaction{Sockets.TCPSocket}}) at Handlers.jl:279, #4 at Handlers.jl:345 [inlined], macro expansion at Servers.jl:367 [inlined], (::HTTP.Servers.var\"#13#14\"{HTTP.Handlers.var\"#4#5\"{HTTP.Handlers.RequestHandlerFunction{Dash.HttpHelpers.var\"#4#5\"{Array{String,1},Int64,HTTP.Handlers.RequestHandlerFunction{Dash.HttpHelpers.var\"#7#8\"{Dash.var\"#65#67\"{Dash.DashApp},HTTP.Handlers.RequestHandlerFunction{Dash.HttpHelpers.var\"#1#2\"{Dash.HttpHelpers.Router,Dash.HandlerState}}}}}}},HTTP.ConnectionPool.Transaction{Sockets.TCPSocket},HTTP.Streams.Stream{HTTP.Messages.Request,HTTP.ConnectionPool.Transaction{Sockets.TCPSocket}}})() at task.jl:356])\n",
      "└ @ HTTP.Servers /home/bohachu/.julia/packages/HTTP/IAI92/src/Servers.jl:373\n",
      "┌ Error: error handling request\n",
      "│   exception = (Base.IOError(\"stream is closed or unusable\", 0), Base.StackTraces.StackFrame[check_open at stream.jl:328 [inlined], uv_write_async(::Sockets.TCPSocket, ::Ptr{UInt8}, ::UInt64) at stream.jl:959, uv_write(::Sockets.TCPSocket, ::Ptr{UInt8}, ::UInt64) at stream.jl:922, unsafe_write(::Sockets.TCPSocket, ::Ptr{UInt8}, ::UInt64) at stream.jl:1005, unsafe_write at ConnectionPool.jl:171 [inlined], unsafe_write at io.jl:622 [inlined], write at io.jl:645 [inlined], startwrite(::HTTP.Streams.Stream{HTTP.Messages.Request,HTTP.ConnectionPool.Transaction{Sockets.TCPSocket}}) at Streams.jl:87, handle(::HTTP.Handlers.RequestHandlerFunction{Dash.HttpHelpers.var\"#4#5\"{Array{String,1},Int64,HTTP.Handlers.RequestHandlerFunction{Dash.HttpHelpers.var\"#7#8\"{Dash.var\"#65#67\"{Dash.DashApp},HTTP.Handlers.RequestHandlerFunction{Dash.HttpHelpers.var\"#1#2\"{Dash.HttpHelpers.Router,Dash.HandlerState}}}}}}, ::HTTP.Streams.Stream{HTTP.Messages.Request,HTTP.ConnectionPool.Transaction{Sockets.TCPSocket}}) at Handlers.jl:278, #4 at Handlers.jl:345 [inlined], macro expansion at Servers.jl:367 [inlined], (::HTTP.Servers.var\"#13#14\"{HTTP.Handlers.var\"#4#5\"{HTTP.Handlers.RequestHandlerFunction{Dash.HttpHelpers.var\"#4#5\"{Array{String,1},Int64,HTTP.Handlers.RequestHandlerFunction{Dash.HttpHelpers.var\"#7#8\"{Dash.var\"#65#67\"{Dash.DashApp},HTTP.Handlers.RequestHandlerFunction{Dash.HttpHelpers.var\"#1#2\"{Dash.HttpHelpers.Router,Dash.HandlerState}}}}}}},HTTP.ConnectionPool.Transaction{Sockets.TCPSocket},HTTP.Streams.Stream{HTTP.Messages.Request,HTTP.ConnectionPool.Transaction{Sockets.TCPSocket}}})() at task.jl:356])\n",
      "└ @ HTTP.Servers /home/bohachu/.julia/packages/HTTP/IAI92/src/Servers.jl:373\n"
     ]
    }
   ],
   "source": [
    "run_server(app, \"0.0.0.0\", 8866)"
   ]
  },
  {
   "cell_type": "code",
   "execution_count": null,
   "metadata": {},
   "outputs": [],
   "source": []
  }
 ],
 "metadata": {
  "kernelspec": {
   "display_name": "Julia 1.5.2",
   "language": "julia",
   "name": "julia-1.5"
  },
  "language_info": {
   "file_extension": ".jl",
   "mimetype": "application/julia",
   "name": "julia",
   "version": "1.5.2"
  }
 },
 "nbformat": 4,
 "nbformat_minor": 4
}
