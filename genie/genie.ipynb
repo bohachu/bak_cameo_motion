{
 "cells": [
  {
   "cell_type": "code",
   "execution_count": 6,
   "metadata": {},
   "outputs": [],
   "source": [
    "using Genie, Genie.Router, Genie.Requests, Genie.Renderer, Genie.Renderer.Html, Genie.Renderer.Json"
   ]
  },
  {
   "cell_type": "code",
   "execution_count": 7,
   "metadata": {},
   "outputs": [
    {
     "name": "stdout",
     "output_type": "stream",
     "text": [
      "  1.895600 seconds (124 allocations: 198.312 KiB)\n"
     ]
    },
    {
     "data": {
      "text/html": [
       "<a href=http://35.194.185.192:18866/form>http://35.194.185.192:18866/form</a>"
      ],
      "text/plain": [
       "HTML{String}(\"<a href=http://35.194.185.192:18866/form>http://35.194.185.192:18866/form</a>\")"
      ]
     },
     "execution_count": 7,
     "metadata": {},
     "output_type": "execute_result"
    }
   ],
   "source": [
    "@time ary_gcp機器列表=split(read(`gcloud compute instances list`,String),\"\\n\")\n",
    "int_port=18866\n",
    "str_本機外部IP=[split(i,r\" +\") for i in ary_gcp機器列表 if occursin(\"cameo-motion-2\",i)][1][6]\n",
    "str_url=\"http://$(str_本機外部IP):$(int_port)/hi?name=BowenChiu\"\n",
    "str_url=\"http://$(str_本機外部IP):$(int_port)/form\"\n",
    "HTML(\"\"\"<a href=$(str_url)>$(str_url)</a>\"\"\")"
   ]
  },
  {
   "cell_type": "code",
   "execution_count": 8,
   "metadata": {},
   "outputs": [
    {
     "data": {
      "text/plain": [
       "[GET] /hi => #31 | :get_hi"
      ]
     },
     "execution_count": 8,
     "metadata": {},
     "output_type": "execute_result"
    }
   ],
   "source": [
    "route(\"/hello\") do\n",
    "  \"Hello - Welcome to Genie!\"\n",
    "end\n",
    "route(\"/hello.html\") do\n",
    "  html(\"Hello World\")\n",
    "end\n",
    "route(\"/hello.json\") do\n",
    "  json(\"Hello World\")\n",
    "end\n",
    "route(\"/hello.txt\") do\n",
    "   respond(\"Hello World\", :text)\n",
    "end\n",
    "route(\"/hi\") do\n",
    "  name = haskey(@params, :name) ? @params(:name) : \"Anon\"\n",
    "  \"Hello $name\"\n",
    "end"
   ]
  },
  {
   "cell_type": "code",
   "execution_count": 9,
   "metadata": {},
   "outputs": [
    {
     "data": {
      "text/plain": [
       "[POST] /form => #35 | :post_form"
      ]
     },
     "execution_count": 9,
     "metadata": {},
     "output_type": "execute_result"
    }
   ],
   "source": [
    "form = \"\"\"\n",
    "<meta charset=\"UTF-8\">\n",
    "<form action=\"/form\" method=\"POST\" enctype=\"multipart/form-data\">\n",
    "  <input type=\"text\" name=\"name\" value=\"\" placeholder=\"What's your name?\" />\n",
    "  <input type=\"submit\" value=\"Greet\" />\n",
    "</form>\n",
    "\"\"\"\n",
    "\n",
    "route(\"/form\") do\n",
    "  html(form)\n",
    "end\n",
    "\n",
    "route(\"/form\", method = POST) do\n",
    "  html(\"\"\"<meta charset=\"UTF-8\"> Hello $(postpayload(:name, \"Anon\"))\"\"\")\n",
    "end"
   ]
  },
  {
   "cell_type": "code",
   "execution_count": null,
   "metadata": {},
   "outputs": [],
   "source": [
    "Genie.config.run_as_server = true\n",
    "Genie.config.cors_headers[\"Access-Control-Allow-Origin\"] = \"http://localhost:$(int_port)\"\n",
    "Genie.config.cors_headers[\"Access-Control-Allow-Headers\"] = \"Content-Type\"\n",
    "Genie.config.cors_headers[\"Access-Control-Allow-Methods\"] =\"GET,POST,PUT,DELETE,OPTIONS\" \n",
    "Genie.config.cors_allowed_origins = [\"*\"]\n",
    "up(int_port, \"0.0.0.0\", async = false, verbose = true)"
   ]
  }
 ],
 "metadata": {
  "kernelspec": {
   "display_name": "Julia 1.5.2",
   "language": "julia",
   "name": "julia-1.5"
  },
  "language_info": {
   "file_extension": ".jl",
   "mimetype": "application/julia",
   "name": "julia",
   "version": "1.5.2"
  }
 },
 "nbformat": 4,
 "nbformat_minor": 4
}
